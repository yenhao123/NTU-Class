{
 "cells": [
  {
   "cell_type": "code",
   "execution_count": 23,
   "id": "672ebc67",
   "metadata": {},
   "outputs": [
    {
     "name": "stdout",
     "output_type": "stream",
     "text": [
      "0.002\n",
      "['0', '1', '2', '3', '4', '5', '6', '7', '8', '9', '10', '11', '12', '13', '14', '15', '16']\n",
      "['0.52', '0.60', '0.52', '0.60', '0.52', '0.60', '0.92', '0.52', '0.60', '0.68', '0.52', '0.76', '0.52', '0.52', '0.68', '0.52', '0.52']\n",
      "['50', '5', '5', '5', '5', '5', '10', '10', '10', '10', '50', '100', '100', '100', '1000', '1000', '1000']\n"
     ]
    }
   ],
   "source": [
    "with open(\"../data/input.dat\") as data:\n",
    "    priority = []\n",
    "    transmissionTime = []\n",
    "    periodTime = []\n",
    "    steps = 0\n",
    "    for row in data:\n",
    "        row = row.strip('\\n ')\n",
    "        if steps == 1:\n",
    "            t = row\n",
    "        if steps >= 2:\n",
    "            row = row.split(\" \")\n",
    "            priority.append(row[0])\n",
    "            transmissionTime.append(row[1])\n",
    "            periodTime.append(row[2])\n",
    "        steps += 1\n",
    "    print(t)\n",
    "    print(priority)\n",
    "    print(transmissionTime)\n",
    "    print(periodTime)"
   ]
  },
  {
   "cell_type": "code",
   "execution_count": null,
   "id": "c1b58708",
   "metadata": {},
   "outputs": [],
   "source": []
  }
 ],
 "metadata": {
  "kernelspec": {
   "display_name": "Python 3 (ipykernel)",
   "language": "python",
   "name": "python3"
  },
  "language_info": {
   "codemirror_mode": {
    "name": "ipython",
    "version": 3
   },
   "file_extension": ".py",
   "mimetype": "text/x-python",
   "name": "python",
   "nbconvert_exporter": "python",
   "pygments_lexer": "ipython3",
   "version": "3.9.13"
  }
 },
 "nbformat": 4,
 "nbformat_minor": 5
}
