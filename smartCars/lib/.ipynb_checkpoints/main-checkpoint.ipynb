{
 "cells": [
  {
   "cell_type": "code",
   "execution_count": 17,
   "id": "4a4c2e6b",
   "metadata": {},
   "outputs": [],
   "source": [
    "import math"
   ]
  },
  {
   "cell_type": "code",
   "execution_count": 68,
   "id": "672ebc67",
   "metadata": {},
   "outputs": [],
   "source": [
    "def preprocessing(file_name):\n",
    "    priority = []\n",
    "    transmission_time = []\n",
    "    period_time = []\n",
    "    with open(file_name) as data:\n",
    "        steps = 0\n",
    "        for row in data:\n",
    "            row = row.strip('\\n ')\n",
    "            if steps == 1:\n",
    "                t = float(row)\n",
    "            if steps >= 2:\n",
    "                row = row.split(\" \")\n",
    "                priority.append(float(row[0]))\n",
    "                transmission_time.append(float(row[1]))\n",
    "                period_time.append(float(row[2]))\n",
    "            steps += 1\n",
    "    data = {}\n",
    "    data[\"priority\"] = priority\n",
    "    data[\"transmission_time\"] = transmission_time\n",
    "    data[\"period_time\"] = period_time\n",
    "    data[\"t\"] = t\n",
    "    data[\"length\"] = len(data[\"priority\"]) \n",
    "    return data"
   ]
  },
  {
   "cell_type": "code",
   "execution_count": 69,
   "id": "8692ad6a",
   "metadata": {},
   "outputs": [],
   "source": [
    "def findBlockTime(data,index):\n",
    "    b = 0\n",
    "    for i in range(data[\"length\"] - index - 1):\n",
    "        if data[\"transmission_time\"][i+1] > b:\n",
    "            b = data[\"transmission_time\"][i+1]\n",
    "    return b"
   ]
  },
  {
   "cell_type": "code",
   "execution_count": 126,
   "id": "8c12b100",
   "metadata": {},
   "outputs": [],
   "source": [
    "def main(data):\n",
    "    response = []\n",
    "    for i in range(data[\"length\"]):\n",
    "        b = findBlockTime(data,i)\n",
    "        q = b\n",
    "        while(1):\n",
    "            #compute RHS\n",
    "            waiting_time = 0.0\n",
    "            for j in range(i):\n",
    "                waiting_time += math.ceil((q + data[\"t\"])/data[\"period_time\"][j]) * data[\"transmission_time\"][j]\n",
    "                #print(str(math.ceil((q + data[\"t\"])/data[\"period_time\"][j]) * data[\"transmission_time\"][j]) + \" : \" + str(waiting_time))\n",
    "            rhs = b + waiting_time\n",
    "            #print(\"rhs:\" + str(rhs) + \" b:\" + str(b) + \" waiting_time:\" + str(waiting_time))\n",
    "            #if RHS + C > T\n",
    "            if rhs + data[\"transmission_time\"][i] > data[\"period_time\"][i]:\n",
    "                print(\"the system is not schedulable\")\n",
    "                break\n",
    "            if rhs == q:\n",
    "                res = round(q + data[\"transmission_time\"][i],12)#若不round會出現非常小誤差\n",
    "                response.append(res)\n",
    "                #print(\"find the worst responseTime of message_\" + str(i) + \" is \" + str(res))\n",
    "                #print(\"------------------------------------------\")\n",
    "                break\n",
    "            else:\n",
    "                q = rhs\n",
    "    data[\"response_time\"] = response\n",
    "    return data"
   ]
  },
  {
   "cell_type": "code",
   "execution_count": 127,
   "id": "c1b58708",
   "metadata": {},
   "outputs": [
    {
     "name": "stdout",
     "output_type": "stream",
     "text": [
      "[1.44, 2.04, 2.56, 3.16, 3.68, 4.28, 5.2, 8.56, 9.16, 9.84, 10.36, 19.2, 19.72, 20.24, 29.32, 29.84, 29.76]\n"
     ]
    }
   ],
   "source": [
    "data = preprocessing(\"../data/input.dat\")\n",
    "data = main(data)\n",
    "print(data[\"response_time\"])"
   ]
  },
  {
   "cell_type": "code",
   "execution_count": null,
   "id": "ab3088de",
   "metadata": {},
   "outputs": [],
   "source": []
  }
 ],
 "metadata": {
  "kernelspec": {
   "display_name": "Python 3 (ipykernel)",
   "language": "python",
   "name": "python3"
  },
  "language_info": {
   "codemirror_mode": {
    "name": "ipython",
    "version": 3
   },
   "file_extension": ".py",
   "mimetype": "text/x-python",
   "name": "python",
   "nbconvert_exporter": "python",
   "pygments_lexer": "ipython3",
   "version": "3.9.13"
  }
 },
 "nbformat": 4,
 "nbformat_minor": 5
}
