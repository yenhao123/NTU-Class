{
 "cells": [
  {
   "cell_type": "code",
   "execution_count": 1,
   "id": "4a4c2e6b",
   "metadata": {},
   "outputs": [],
   "source": [
    "import math"
   ]
  },
  {
   "cell_type": "code",
   "execution_count": 2,
   "id": "672ebc67",
   "metadata": {},
   "outputs": [],
   "source": [
    "def preprocessing(file_name):\n",
    "    priority = []\n",
    "    transmission_time = []\n",
    "    period_time = []\n",
    "    with open(file_name) as data:\n",
    "        steps = 0\n",
    "        for row in data:\n",
    "            row = row.strip('\\n ')\n",
    "            if steps == 1:\n",
    "                t = float(row)\n",
    "            if steps >= 2:\n",
    "                row = row.split(\" \")\n",
    "                priority.append(float(row[0]))\n",
    "                transmission_time.append(float(row[1]))\n",
    "                period_time.append(float(row[2]))\n",
    "            steps += 1\n",
    "    data = {}\n",
    "    data[\"priority\"] = priority\n",
    "    data[\"transmission_time\"] = transmission_time\n",
    "    data[\"period_time\"] = period_time\n",
    "    data[\"t\"] = t\n",
    "    data[\"length\"] = len(data[\"priority\"]) \n",
    "    return data"
   ]
  },
  {
   "cell_type": "code",
   "execution_count": 3,
   "id": "8692ad6a",
   "metadata": {},
   "outputs": [],
   "source": [
    "def findBlockTime(data,index):\n",
    "    b = 0\n",
    "    b = max(data[\"transmission_time\"][index:])\n",
    "    return b"
   ]
  },
  {
   "cell_type": "code",
   "execution_count": 4,
   "id": "8c12b100",
   "metadata": {},
   "outputs": [],
   "source": [
    "def main(data):\n",
    "    response = []\n",
    "    for i in range(data[\"length\"]):\n",
    "        b = findBlockTime(data,i)\n",
    "        q = b\n",
    "        while(1):\n",
    "            #compute RHS\n",
    "            waiting_time = 0.0\n",
    "            for j in range(i):\n",
    "                waiting_time += math.ceil((q + data[\"t\"])/data[\"period_time\"][j]) * data[\"transmission_time\"][j]\n",
    "                #print(str(math.ceil((q + data[\"t\"])/data[\"period_time\"][j]) * data[\"transmission_time\"][j]) + \" : \" + str(waiting_time))\n",
    "            rhs = b + waiting_time\n",
    "            #print(\"rhs:\" + str(rhs) + \" b:\" + str(b) + \" waiting_time:\" + str(waiting_time))\n",
    "            #if RHS + C > T\n",
    "            if rhs + data[\"transmission_time\"][i] > data[\"period_time\"][i]:\n",
    "                print(\"the system is not schedulable\")\n",
    "                break\n",
    "            if rhs == q:\n",
    "                res = round(q + data[\"transmission_time\"][i],12)#若不round會出現非常小誤差\n",
    "                response.append(res)\n",
    "                print(\"find the worst responseTime of message_{:0>2d}\".format(i) + \" is {:.2f}\".format(res))\n",
    "                #print(\"------------------------------------------\")\n",
    "                break\n",
    "            else:\n",
    "                q = rhs\n",
    "    data[\"response_time\"] = response\n",
    "    return data"
   ]
  },
  {
   "cell_type": "code",
   "execution_count": 5,
   "id": "c1b58708",
   "metadata": {},
   "outputs": [
    {
     "name": "stdout",
     "output_type": "stream",
     "text": [
      "find the worst responseTime of message_00 is 1.44\n",
      "find the worst responseTime of message_01 is 2.04\n",
      "find the worst responseTime of message_02 is 2.56\n",
      "find the worst responseTime of message_03 is 3.16\n",
      "find the worst responseTime of message_04 is 3.68\n",
      "find the worst responseTime of message_05 is 4.28\n",
      "find the worst responseTime of message_06 is 5.20\n",
      "find the worst responseTime of message_07 is 8.40\n",
      "find the worst responseTime of message_08 is 9.00\n",
      "find the worst responseTime of message_09 is 9.68\n",
      "find the worst responseTime of message_10 is 10.20\n",
      "find the worst responseTime of message_11 is 19.36\n",
      "find the worst responseTime of message_12 is 19.80\n",
      "find the worst responseTime of message_13 is 20.32\n",
      "find the worst responseTime of message_14 is 29.40\n",
      "find the worst responseTime of message_15 is 29.76\n",
      "find the worst responseTime of message_16 is 30.28\n",
      "[1.44, 2.04, 2.56, 3.16, 3.68, 4.28, 5.2, 8.4, 9.0, 9.68, 10.2, 19.36, 19.8, 20.32, 29.4, 29.76, 30.28]\n"
     ]
    }
   ],
   "source": [
    "data = preprocessing(\"../data/input.dat\")\n",
    "data = main(data)\n",
    "print(data[\"response_time\"])"
   ]
  },
  {
   "cell_type": "code",
   "execution_count": null,
   "id": "ab3088de",
   "metadata": {},
   "outputs": [],
   "source": []
  },
  {
   "cell_type": "code",
   "execution_count": null,
   "id": "399dda01",
   "metadata": {},
   "outputs": [],
   "source": []
  }
 ],
 "metadata": {
  "kernelspec": {
   "display_name": "Python 3 (ipykernel)",
   "language": "python",
   "name": "python3"
  },
  "language_info": {
   "codemirror_mode": {
    "name": "ipython",
    "version": 3
   },
   "file_extension": ".py",
   "mimetype": "text/x-python",
   "name": "python",
   "nbconvert_exporter": "python",
   "pygments_lexer": "ipython3",
   "version": "3.8.10"
  }
 },
 "nbformat": 4,
 "nbformat_minor": 5
}
