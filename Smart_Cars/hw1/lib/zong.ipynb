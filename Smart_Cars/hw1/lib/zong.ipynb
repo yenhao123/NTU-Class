{
 "cells": [
  {
   "cell_type": "code",
   "execution_count": 1,
   "id": "430e2206",
   "metadata": {},
   "outputs": [
    {
     "name": "stdout",
     "output_type": "stream",
     "text": [
      "17\n",
      "0.002\n",
      "[0, 1, 2, 3, 4, 5, 6, 7, 8, 9, 10, 11, 12, 13, 14, 15, 16]\n",
      "[0.52, 0.6, 0.52, 0.6, 0.52, 0.6, 0.92, 0.52, 0.6, 0.68, 0.52, 0.76, 0.52, 0.52, 0.68, 0.52, 0.52]\n",
      "[50, 5, 5, 5, 5, 5, 10, 10, 10, 10, 50, 100, 100, 100, 1000, 1000, 1000]\n"
     ]
    }
   ],
   "source": [
    "import csv\n",
    "import math\n",
    "with open('../data/input.dat') as data:\n",
    "    step = 0\n",
    "    priority = []\n",
    "    tran = []\n",
    "    period = []\n",
    "    for row in data:\n",
    "        row = row.strip('\\n ')\n",
    "        if step == 0:\n",
    "            total = row\n",
    "        if step == 1:\n",
    "            t = row\n",
    "        if step >= 2:\n",
    "            priority.append(row.split(' ')[0])\n",
    "            tran.append(row.split(' ')[1])\n",
    "            period.append(row.split(' ')[2])\n",
    "        step += 1\n",
    "    total = int(total)\n",
    "    t = float(t)\n",
    "    priority = list(map(int,priority))\n",
    "    tran = [float(i) for i in tran]\n",
    "    period = list(map(int,period))\n",
    "    print(total)\n",
    "    print(t)\n",
    "    print(priority)\n",
    "    print(tran)\n",
    "    print(period)"
   ]
  },
  {
   "cell_type": "code",
   "execution_count": 8,
   "id": "79b167ee",
   "metadata": {},
   "outputs": [],
   "source": [
    "def find_res_time(num):\n",
    "    if(num == total-1):\n",
    "        b = 0;\n",
    "    else:\n",
    "        b = max(tran[num+1:]) # find blocking time\n",
    "    print(b)\n",
    "    q = b\n",
    "    r = 0\n",
    "    cnt = 0\n",
    "    while True:\n",
    "        tmp = q\n",
    "        x = 0\n",
    "        for j in range(num): #compute RHS\n",
    "            #print(j)\n",
    "            #tmp = tmp + math.ceil((tmp+t)/period[j])*tran[j] #tmp means RHS\n",
    "            x += math.ceil((tmp+t)/period[j])*tran[j]\n",
    "            #print(tmp)\n",
    "        tmp = b + x\n",
    "        #print(\"cnt = \", cnt)\n",
    "        #print(\"tmp = \", tmp)\n",
    "        #print(\"q = \", q)\n",
    "        if ((tmp + tran[num]) > period[num]):\n",
    "            quit = 1\n",
    "            #print(\"quit = \" ,quit)\n",
    "            break\n",
    "        elif (q == tmp):\n",
    "            r = q + tran[num]\n",
    "            quit = 2\n",
    "            #print(\"quit = \" ,quit)\n",
    "            break\n",
    "        else:\n",
    "            q = tmp\n",
    "        #print('d')\n",
    "        cnt += 1\n",
    "    #print(\"num = \",num, \"\\nR = \",r)\n",
    "    print(\"num = \",num, \" R = \",r)\n",
    "    print(\"-----------------\")"
   ]
  },
  {
   "cell_type": "code",
   "execution_count": 9,
   "id": "d06a6fa4",
   "metadata": {},
   "outputs": [
    {
     "name": "stdout",
     "output_type": "stream",
     "text": [
      "0.92\n",
      "num =  0  R =  1.44\n",
      "-----------------\n",
      "0.92\n",
      "num =  1  R =  2.04\n",
      "-----------------\n",
      "0.92\n",
      "num =  2  R =  2.56\n",
      "-----------------\n",
      "0.92\n",
      "num =  3  R =  3.16\n",
      "-----------------\n",
      "0.92\n",
      "num =  4  R =  3.68\n",
      "-----------------\n",
      "0.92\n",
      "num =  5  R =  4.28\n",
      "-----------------\n",
      "0.76\n",
      "num =  6  R =  5.04\n",
      "-----------------\n",
      "0.76\n",
      "num =  7  R =  8.4\n",
      "-----------------\n",
      "0.76\n",
      "num =  8  R =  9.0\n",
      "-----------------\n",
      "0.76\n",
      "num =  9  R =  9.68\n",
      "-----------------\n",
      "0.76\n",
      "num =  10  R =  10.2\n",
      "-----------------\n",
      "0.68\n",
      "num =  11  R =  19.28\n",
      "-----------------\n",
      "0.68\n",
      "num =  12  R =  19.8\n",
      "-----------------\n",
      "0.68\n",
      "num =  13  R =  20.32\n",
      "-----------------\n",
      "0.52\n",
      "num =  14  R =  29.240000000000002\n",
      "-----------------\n",
      "0.52\n",
      "num =  15  R =  29.76\n",
      "-----------------\n",
      "0\n",
      "num =  16  R =  29.76\n",
      "-----------------\n"
     ]
    }
   ],
   "source": [
    "    #find_res_time(14)\n",
    "    for i in range(17):\n",
    "        #print(i)\n",
    "        find_res_time(i)"
   ]
  },
  {
   "cell_type": "code",
   "execution_count": null,
   "id": "0dc44670",
   "metadata": {},
   "outputs": [],
   "source": []
  }
 ],
 "metadata": {
  "kernelspec": {
   "display_name": "Python 3 (ipykernel)",
   "language": "python",
   "name": "python3"
  },
  "language_info": {
   "codemirror_mode": {
    "name": "ipython",
    "version": 3
   },
   "file_extension": ".py",
   "mimetype": "text/x-python",
   "name": "python",
   "nbconvert_exporter": "python",
   "pygments_lexer": "ipython3",
   "version": "3.9.13"
  }
 },
 "nbformat": 4,
 "nbformat_minor": 5
}
