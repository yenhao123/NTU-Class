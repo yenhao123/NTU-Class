{
 "cells": [
  {
   "cell_type": "code",
   "execution_count": 1,
   "metadata": {},
   "outputs": [
    {
     "name": "stderr",
     "output_type": "stream",
     "text": [
      "usage: ipykernel_launcher.py [-h] [--data_dir DATA_DIR]\n",
      "                             [--cache_dir CACHE_DIR] [--ckpt_dir CKPT_DIR]\n",
      "                             [--max_len MAX_LEN] [--hidden_size HIDDEN_SIZE]\n",
      "                             [--num_layers NUM_LAYERS] [--dropout DROPOUT]\n",
      "                             [--bidirectional BIDIRECTIONAL] [--lr LR]\n",
      "                             [--batch_size BATCH_SIZE] [--device DEVICE]\n",
      "                             [--num_epoch NUM_EPOCH]\n",
      "ipykernel_launcher.py: error: unrecognized arguments: -f /home/jony/.local/share/jupyter/runtime/kernel-f024377b-f765-4026-b83e-a57b7399df88.json\n"
     ]
    },
    {
     "ename": "SystemExit",
     "evalue": "2",
     "output_type": "error",
     "traceback": [
      "An exception has occurred, use %tb to see the full traceback.\n",
      "\u001b[0;31mSystemExit\u001b[0m\u001b[0;31m:\u001b[0m 2\n"
     ]
    },
    {
     "name": "stderr",
     "output_type": "stream",
     "text": [
      "/home/jony/anaconda3/lib/python3.7/site-packages/IPython/core/interactiveshell.py:3334: UserWarning: To exit: use 'exit', 'quit', or Ctrl-D.\n",
      "  warn(\"To exit: use 'exit', 'quit', or Ctrl-D.\", stacklevel=1)\n"
     ]
    }
   ],
   "source": [
    "import json\n",
    "import pickle\n",
    "from argparse import ArgumentParser, Namespace\n",
    "from pathlib import Path\n",
    "from typing import Dict\n",
    "\n",
    "import torch\n",
    "from tqdm import trange\n",
    "\n",
    "from dataset import SeqClsDataset\n",
    "from utils import Vocab\n",
    "\n",
    "TRAIN = \"train\"\n",
    "DEV = \"eval\"\n",
    "SPLITS = [TRAIN, DEV]\n",
    "\n",
    "\n",
    "def main(args):\n",
    "    with open(args.cache_dir / \"vocab.pkl\", \"rb\") as f:\n",
    "        vocab: Vocab = pickle.load(f)\n",
    "\n",
    "    intent_idx_path = args.cache_dir / \"intent2idx.json\"\n",
    "    intent2idx: Dict[str, int] = json.loads(intent_idx_path.read_text())\n",
    "\n",
    "    data_paths = {split: args.data_dir / f\"{split}.json\" for split in SPLITS}\n",
    "    data = {split: json.loads(path.read_text()) for split, path in data_paths.items()}\n",
    "    datasets: Dict[str, SeqClsDataset] = {\n",
    "        split: SeqClsDataset(split_data, vocab, intent2idx, args.max_len)\n",
    "        for split, split_data in data.items()\n",
    "    }\n",
    "    print(datasets)\n",
    "    # TODO: crecate DataLoader for train / dev datasets\n",
    "    #class WordDataset(Dataset):\n",
    "    #    def __init__(self,x,y=None,transform=None):\n",
    "    #        self.x = x\n",
    "            \n",
    "    \n",
    "    \n",
    "    embeddings = torch.load(args.cache_dir / \"embeddings.pt\")\n",
    "    # TODO: init model and move model to target device(cpu / gpu)\n",
    "    model = None\n",
    "\n",
    "    # TODO: init optimizer\n",
    "    optimizer = None\n",
    "\n",
    "    epoch_pbar = trange(args.num_epoch, desc=\"Epoch\")\n",
    "    for epoch in epoch_pbar:\n",
    "        # TODO: Training loop - iterate over train dataloader and update model weights\n",
    "        # TODO: Evaluation loop - calculate accuracy and save model weights\n",
    "        pass\n",
    "\n",
    "    # TODO: Inference on test set\n",
    "\n",
    "\n",
    "def parse_args() -> Namespace:\n",
    "    parser = ArgumentParser()\n",
    "    parser.add_argument(\n",
    "        \"--data_dir\",\n",
    "        type=Path,\n",
    "        help=\"Directory to the dataset.\",\n",
    "        default=\"./data/intent/\",\n",
    "    )\n",
    "    parser.add_argument(\n",
    "        \"--cache_dir\",\n",
    "        type=Path,\n",
    "        help=\"Directory to the preprocessed caches.\",\n",
    "        default=\"./cache/intent/\",\n",
    "    )\n",
    "    parser.add_argument(\n",
    "        \"--ckpt_dir\",\n",
    "        type=Path,\n",
    "        help=\"Directory to save the model file.\",\n",
    "        default=\"./ckpt/intent/\",\n",
    "    )\n",
    "\n",
    "    # data\n",
    "    parser.add_argument(\"--max_len\", type=int, default=128)\n",
    "\n",
    "    # model\n",
    "    parser.add_argument(\"--hidden_size\", type=int, default=512)\n",
    "    parser.add_argument(\"--num_layers\", type=int, default=2)\n",
    "    parser.add_argument(\"--dropout\", type=float, default=0.1)\n",
    "    parser.add_argument(\"--bidirectional\", type=bool, default=True)\n",
    "\n",
    "    # optimizer\n",
    "    parser.add_argument(\"--lr\", type=float, default=1e-3)\n",
    "\n",
    "    # data loader\n",
    "    parser.add_argument(\"--batch_size\", type=int, default=128)\n",
    "\n",
    "    # training\n",
    "    parser.add_argument(\n",
    "        \"--device\", type=torch.device, help=\"cpu, cuda, cuda:0, cuda:1\", default=\"cpu\"\n",
    "    )\n",
    "    parser.add_argument(\"--num_epoch\", type=int, default=100)\n",
    "\n",
    "    args = parser.parse_args()\n",
    "    return args\n",
    "\n",
    "\n",
    "if __name__ == \"__main__\":\n",
    "    args = parse_args()\n",
    "    args.ckpt_dir.mkdir(parents=True, exist_ok=True)\n",
    "    main(args)"
   ]
  },
  {
   "cell_type": "code",
   "execution_count": 6,
   "metadata": {},
   "outputs": [
    {
     "ename": "TypeError",
     "evalue": "unsupported operand type(s) for /: 'str' and 'str'",
     "output_type": "error",
     "traceback": [
      "\u001b[0;31m---------------------------------------------------------------------------\u001b[0m",
      "\u001b[0;31mTypeError\u001b[0m                                 Traceback (most recent call last)",
      "Input \u001b[0;32mIn [6]\u001b[0m, in \u001b[0;36m<cell line: 1>\u001b[0;34m()\u001b[0m\n\u001b[0;32m----> 1\u001b[0m intent_idx_path \u001b[38;5;241m=\u001b[39m \u001b[38;5;124;43m\"\u001b[39;49m\u001b[38;5;124;43ma\u001b[39;49m\u001b[38;5;124;43m\"\u001b[39;49m\u001b[43m \u001b[49m\u001b[38;5;241;43m/\u001b[39;49m\u001b[43m \u001b[49m\u001b[38;5;124;43m\"\u001b[39;49m\u001b[38;5;124;43mintent2idx.json\u001b[39;49m\u001b[38;5;124;43m\"\u001b[39;49m\n",
      "\u001b[0;31mTypeError\u001b[0m: unsupported operand type(s) for /: 'str' and 'str'"
     ]
    }
   ],
   "source": [
    "intent_idx_path = \"a\" / \"intent2idx.json\""
   ]
  },
  {
   "cell_type": "code",
   "execution_count": null,
   "metadata": {},
   "outputs": [],
   "source": []
  }
 ],
 "metadata": {
  "kernelspec": {
   "display_name": "Python 3 (ipykernel)",
   "language": "python",
   "name": "python3"
  },
  "language_info": {
   "codemirror_mode": {
    "name": "ipython",
    "version": 3
   },
   "file_extension": ".py",
   "mimetype": "text/x-python",
   "name": "python",
   "nbconvert_exporter": "python",
   "pygments_lexer": "ipython3",
   "version": "3.7.4"
  }
 },
 "nbformat": 4,
 "nbformat_minor": 5
}
