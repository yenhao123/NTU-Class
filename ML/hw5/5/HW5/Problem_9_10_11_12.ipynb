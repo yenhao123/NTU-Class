{
  "nbformat": 4,
  "nbformat_minor": 0,
  "metadata": {
    "colab": {
      "provenance": [],
      "gpuType": "T4"
    },
    "kernelspec": {
      "name": "python3",
      "display_name": "Python 3"
    },
    "language_info": {
      "name": "python"
    },
    "accelerator": "GPU"
  },
  "cells": [
    {
      "cell_type": "markdown",
      "source": [
        "# Prepare Data"
      ],
      "metadata": {
        "id": "ifrZi5KCJpBM"
      }
    },
    {
      "cell_type": "code",
      "execution_count": 1,
      "metadata": {
        "id": "oiLU2MCe0Fz6",
        "colab": {
          "base_uri": "https://localhost:8080/"
        },
        "outputId": "eb8c593a-5eff-4ff7-8845-d555cdb70f18"
      },
      "outputs": [
        {
          "output_type": "stream",
          "name": "stdout",
          "text": [
            "Collecting libsvm-official\n",
            "  Downloading libsvm-official-3.32.0.tar.gz (39 kB)\n",
            "  Preparing metadata (setup.py) ... \u001b[?25l\u001b[?25hdone\n",
            "Requirement already satisfied: scipy in /usr/local/lib/python3.10/dist-packages (from libsvm-official) (1.11.3)\n",
            "Requirement already satisfied: numpy<1.28.0,>=1.21.6 in /usr/local/lib/python3.10/dist-packages (from scipy->libsvm-official) (1.23.5)\n",
            "Building wheels for collected packages: libsvm-official\n",
            "  Building wheel for libsvm-official (setup.py) ... \u001b[?25l\u001b[?25hdone\n",
            "  Created wheel for libsvm-official: filename=libsvm_official-3.32.0-cp310-cp310-linux_x86_64.whl size=123886 sha256=0cd7e5c5d5bc2283010ba61474c3d1f01d8e4ea24cf8791e289a1985b05e989f\n",
            "  Stored in directory: /root/.cache/pip/wheels/61/3b/1b/73bb4869517f96a26c82b47ccdb9ec48f12f4466de2371eff6\n",
            "Successfully built libsvm-official\n",
            "Installing collected packages: libsvm-official\n",
            "Successfully installed libsvm-official-3.32.0\n"
          ]
        },
        {
          "output_type": "stream",
          "name": "stderr",
          "text": [
            "/usr/local/lib/python3.10/dist-packages/libsvm/svm.py:147: NumbaDeprecationWarning: The 'nopython' keyword argument was not supplied to the 'numba.jit' decorator. The implicit default value for this argument is currently False, but it will be changed to True in Numba 0.59.0. See https://numba.readthedocs.io/en/stable/reference/deprecation.html#deprecation-of-object-mode-fall-back-behaviour-when-using-jit for details.\n",
            "  def csr_to_problem_jit(l, x_val, x_ind, x_rowptr, prob_val, prob_ind, prob_rowptr, indx_start):\n"
          ]
        }
      ],
      "source": [
        "!pip install -U libsvm-official\n",
        "\n",
        "import numpy as np\n",
        "from libsvm.svmutil import *\n",
        "import matplotlib.pyplot as plt"
      ]
    },
    {
      "cell_type": "code",
      "source": [
        "def reLabel(data, target):\n",
        "  new_data = [1 if item == target else -1 for item in data]\n",
        "  return new_data"
      ],
      "metadata": {
        "id": "66dvlo2FA0xa"
      },
      "execution_count": 2,
      "outputs": []
    },
    {
      "cell_type": "code",
      "source": [
        "Y_train, X_train = svm_read_problem(\"/content/train.txt\")\n",
        "Y_test,  X_test  = svm_read_problem(\"/content/test.txt\")\n",
        "\n",
        "X_lower = min(X_train[0].keys())\n",
        "X_upper = max(X_train[0].keys())"
      ],
      "metadata": {
        "id": "2uFVlR6bDnqq"
      },
      "execution_count": 3,
      "outputs": []
    },
    {
      "cell_type": "markdown",
      "source": [
        "# Problem 9"
      ],
      "metadata": {
        "id": "ckM9bqmoEjDX"
      }
    },
    {
      "cell_type": "code",
      "source": [
        "y_train = reLabel(Y_train, 4)\n",
        "\n",
        "C = [0.1, 1, 10]\n",
        "Q = [2, 3, 4]"
      ],
      "metadata": {
        "id": "p6Q_ngvE-PHD"
      },
      "execution_count": null,
      "outputs": []
    },
    {
      "cell_type": "code",
      "source": [
        "minSVs = len(X_train)\n",
        "best_c = C[0]\n",
        "best_q = Q[0]\n",
        "\n",
        "for c in C:\n",
        "  for q in Q:\n",
        "\n",
        "    model = svm_train(y_train, X_train, f'-s 0 -c {c} -d {q} -t 1 -g 1 -r 1')\n",
        "    p_label, p_acc, p_val = svm_predict(y_train, X_train, model)\n",
        "\n",
        "    SVs = model.get_nr_sv()\n",
        "    print(f'C = {c}, Q = {q}, SVs = {SVs}')\n",
        "    if SVs < minSVs:\n",
        "      minSVs = SVs\n",
        "      best_c = c\n",
        "      best_q = q\n",
        "\n",
        "print(f'C = {best_c}, Q = {best_q} results in the smallest number of support vectors')"
      ],
      "metadata": {
        "colab": {
          "base_uri": "https://localhost:8080/"
        },
        "id": "_LePnV9XGVxj",
        "outputId": "bfb82cbf-7ba6-43de-cb42-435fb3dff04e"
      },
      "execution_count": null,
      "outputs": [
        {
          "output_type": "stream",
          "name": "stdout",
          "text": [
            "Accuracy = 92.1759% (4088/4435) (classification)\n",
            "C = 0.1, Q = 2, SVs = 860\n",
            "Accuracy = 94.6336% (4197/4435) (classification)\n",
            "C = 0.1, Q = 3, SVs = 789\n",
            "Accuracy = 97.1815% (4310/4435) (classification)\n",
            "C = 0.1, Q = 4, SVs = 740\n",
            "Accuracy = 94.4983% (4191/4435) (classification)\n",
            "C = 1, Q = 2, SVs = 783\n",
            "Accuracy = 96.9109% (4298/4435) (classification)\n",
            "C = 1, Q = 3, SVs = 721\n",
            "Accuracy = 99.4363% (4410/4435) (classification)\n",
            "C = 1, Q = 4, SVs = 666\n",
            "Accuracy = 95.9865% (4257/4435) (classification)\n",
            "C = 10, Q = 2, SVs = 712\n",
            "Accuracy = 99.1657% (4398/4435) (classification)\n",
            "C = 10, Q = 3, SVs = 659\n",
            "Accuracy = 100% (4435/4435) (classification)\n",
            "C = 10, Q = 4, SVs = 629\n",
            "C = 10, Q = 4 results in the smallest number of support vectors\n"
          ]
        }
      ]
    },
    {
      "cell_type": "markdown",
      "source": [
        "# Problem 10"
      ],
      "metadata": {
        "id": "6fdliCETKU5l"
      }
    },
    {
      "cell_type": "code",
      "source": [
        "y_train = reLabel(Y_train, 1)\n",
        "y_test  = reLabel(Y_test, 1)\n",
        "\n",
        "C = [0.01, 0.1, 1, 10, 100]"
      ],
      "metadata": {
        "id": "8lssAmREK1kg"
      },
      "execution_count": null,
      "outputs": []
    },
    {
      "cell_type": "code",
      "source": [
        "minEout = 1\n",
        "best_c  = C[0]\n",
        "\n",
        "for c in C:\n",
        "\n",
        "  model = svm_train(y_train, X_train, f'-s 0 -c {c} -t 2 -g 1')\n",
        "  p_label, p_acc, p_val = svm_predict(y_test, X_test, model)\n",
        "\n",
        "  Eout = 1 - p_acc[0]/100\n",
        "  if Eout < minEout:\n",
        "    minEout = Eout\n",
        "    best_c  = c\n",
        "\n",
        "print(f'C = {best_c} results in the lowest Eout')"
      ],
      "metadata": {
        "colab": {
          "base_uri": "https://localhost:8080/"
        },
        "id": "iZEF6QA-KW9U",
        "outputId": "7ba437f5-8951-4e3c-ddc9-c15d31e70ea4"
      },
      "execution_count": null,
      "outputs": [
        {
          "output_type": "stream",
          "name": "stdout",
          "text": [
            "Accuracy = 95.4% (1908/2000) (classification)\n",
            "Accuracy = 98.8% (1976/2000) (classification)\n",
            "Accuracy = 99.5% (1990/2000) (classification)\n",
            "Accuracy = 99.4% (1988/2000) (classification)\n",
            "Accuracy = 99.45% (1989/2000) (classification)\n",
            "C = 1 results in the lowest Eout\n"
          ]
        }
      ]
    },
    {
      "cell_type": "markdown",
      "source": [
        "# Problem 11"
      ],
      "metadata": {
        "id": "jb-akaWoNRNg"
      }
    },
    {
      "cell_type": "code",
      "source": [
        "def shuffle_and_split(x, y, N):\n",
        "  indices = np.random.permutation(len(y))\n",
        "  x_shuffled = np.array(x)[indices]\n",
        "  y_shuffled = np.array(y)[indices]\n",
        "\n",
        "  x_val   = x_shuffled[:N]\n",
        "  y_val   = y_shuffled[:N]\n",
        "  x_train = x_shuffled[N:]\n",
        "  y_train = y_shuffled[N:]\n",
        "\n",
        "  return x_val, y_val, x_train, y_train"
      ],
      "metadata": {
        "id": "x4QG63ZpNUFh"
      },
      "execution_count": null,
      "outputs": []
    },
    {
      "cell_type": "code",
      "source": [
        "y_train_relabel = reLabel(Y_train, 1)\n",
        "\n",
        "C = [0.01, 0.1, 1, 10, 100]"
      ],
      "metadata": {
        "id": "j6fRxyTBN8SZ"
      },
      "execution_count": null,
      "outputs": []
    },
    {
      "cell_type": "code",
      "source": [
        "best_c_list = []\n",
        "\n",
        "for _ in range(1000):\n",
        "  np.random.seed(_)\n",
        "  x_val, y_val, x_train, y_train = shuffle_and_split(X_train, y_train_relabel, 200)\n",
        "\n",
        "  minEval = 1\n",
        "  best_c  = C[0]\n",
        "\n",
        "  for c in C:\n",
        "    model = svm_train(y_train, x_train, f'-s 0 -c {c} -t 2 -g 1')\n",
        "    p_label, p_acc, p_val = svm_predict(y_val, x_val, model, '-q')\n",
        "\n",
        "    Eval = 1 - p_acc[0]/100\n",
        "    if Eval < minEval:\n",
        "      minEval = Eval\n",
        "      best_c  = c\n",
        "\n",
        "  best_c_list.append(best_c)"
      ],
      "metadata": {
        "id": "tMFPhp0bNUVY"
      },
      "execution_count": null,
      "outputs": []
    },
    {
      "cell_type": "code",
      "source": [
        "c0,c1,c2,c3,c4 = 0,0,0,0,0\n",
        "\n",
        "\n",
        "for item in best_c_list:\n",
        "  if item == 0.01:\n",
        "    c0 += 1\n",
        "  elif item == 0.1:\n",
        "    c1 += 1\n",
        "  elif item == 1:\n",
        "    c2 += 1\n",
        "  elif item == 10:\n",
        "    c3 += 1\n",
        "  elif item == 100:\n",
        "    c4 += 1\n",
        "\n",
        "print(c0,c1,c2,c3,c4)"
      ],
      "metadata": {
        "colab": {
          "base_uri": "https://localhost:8080/"
        },
        "id": "TESVC7AJpaV8",
        "outputId": "b2c9af9b-a84b-4a60-d40f-8171eb7e1af8"
      },
      "execution_count": null,
      "outputs": [
        {
          "output_type": "stream",
          "name": "stdout",
          "text": [
            "0 195 380 413 12\n"
          ]
        }
      ]
    },
    {
      "cell_type": "code",
      "source": [
        "plt.hist(best_c_list, bins=[0.01, 0.015, 0.1, 0.15, 1, 1.5, 10, 15, 100, 150], color='#7859D8', edgecolor='#400E7B', alpha=0.4, linewidth=0.5)\n",
        "plt.style.use('bmh')\n",
        "plt.xscale('log')\n",
        "plt.xlabel(\"C\")\n",
        "plt.ylabel(\"Frequency\")\n",
        "plt.title(\"C with min Eval\")\n",
        "plt.show()"
      ],
      "metadata": {
        "colab": {
          "base_uri": "https://localhost:8080/",
          "height": 476
        },
        "id": "yCg2ObU0craT",
        "outputId": "5789b847-1002-4aa9-c1ac-7c95f80194df"
      },
      "execution_count": null,
      "outputs": [
        {
          "output_type": "display_data",
          "data": {
            "text/plain": [
              "<Figure size 640x480 with 1 Axes>"
            ],
            "image/png": "[encoded data removed]"
          },
          "metadata": {}
        }
      ]
    },
    {
      "cell_type": "markdown",
      "source": [
        "# Problem 12"
      ],
      "metadata": {
        "id": "7OFmZp44S3k7"
      }
    },
    {
      "cell_type": "code",
      "source": [
        "def K(Xn, Xm):\n",
        "\n",
        "    Xn, Xm = np.array(Xn), np.array(Xm)\n",
        "\n",
        "    distance_squared = np.sum((Xn - Xm) ** 2)\n",
        "\n",
        "    return np.exp(-distance_squared)"
      ],
      "metadata": {
        "id": "kvd1qmhbhodg"
      },
      "execution_count": 5,
      "outputs": []
    },
    {
      "cell_type": "code",
      "source": [
        "import math\n",
        "\n",
        "def w_length(coef, vect):\n",
        "  dim    = len(coef)\n",
        "  result = 0\n",
        "  for i in range(dim):\n",
        "    for j in range(dim):\n",
        "      result += coef[i] * coef[j] * K(vect[i], vect[j])\n",
        "  return math.sqrt(result)"
      ],
      "metadata": {
        "id": "hEQMUncfvuQd"
      },
      "execution_count": 6,
      "outputs": []
    },
    {
      "cell_type": "code",
      "source": [
        "y_train = reLabel(Y_train, 3)\n",
        "\n",
        "C = [0.01, 0.1, 1, 10, 100]"
      ],
      "metadata": {
        "id": "-dR9oNIfS5sF"
      },
      "execution_count": 7,
      "outputs": []
    },
    {
      "cell_type": "code",
      "source": [
        "length_w_list = []\n",
        "\n",
        "for c in C:\n",
        "\n",
        "  model = svm_train(y_train, X_train, f'-s 0 -c {c} -t 2 -g 1')\n",
        "\n",
        "  sv_coef     = model.get_sv_coef()\n",
        "  sv_vect     = model.get_SV()\n",
        "  sv_coef_arr = np.ravel(sv_coef)\n",
        "  sv_vect_arr = np.array([[item.get(i, 0) for i in range(1, 37)] for item in sv_vect])\n",
        "  length_w_list.append(w_length(sv_coef_arr, sv_vect_arr))"
      ],
      "metadata": {
        "id": "G_ngZZ5cThBj"
      },
      "execution_count": 8,
      "outputs": []
    },
    {
      "cell_type": "code",
      "source": [
        "plt.plot(C, length_w_list, marker='o', linestyle='-', color='#7859D8')\n",
        "\n",
        "plt.style.use('bmh')\n",
        "plt.xscale('log')\n",
        "plt.xlabel('C')\n",
        "plt.ylabel('∥w∥')\n",
        "plt.title('Length of w')\n",
        "plt.show()"
      ],
      "metadata": {
        "colab": {
          "base_uri": "https://localhost:8080/",
          "height": 476
        },
        "id": "d-IknxUAiPWV",
        "outputId": "addaad34-5acf-473e-867f-11de2899024a"
      },
      "execution_count": 10,
      "outputs": [
        {
          "output_type": "display_data",
          "data": {
            "text/plain": [
              "<Figure size 640x480 with 1 Axes>"
            ],
            "image/png": "[encoded data removed]"
          },
          "metadata": {}
        }
      ]
    }
  ]
}