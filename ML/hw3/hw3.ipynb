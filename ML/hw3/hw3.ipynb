{
 "cells": [
  {
   "cell_type": "markdown",
   "id": "786b2896",
   "metadata": {},
   "source": [
    "## Prob 9"
   ]
  },
  {
   "cell_type": "code",
   "execution_count": 62,
   "id": "077ccf4a",
   "metadata": {},
   "outputs": [],
   "source": [
    "import numpy as np\n",
    "from numpy.linalg import inv"
   ]
  },
  {
   "cell_type": "code",
   "execution_count": 72,
   "id": "1c6bb50e",
   "metadata": {},
   "outputs": [],
   "source": [
    "def create_x(mean, cov):\n",
    "    x = np.random.multivariate_normal(mean, cov, 1)[0]\n",
    "    x = np.concatenate([[1], x])\n",
    "    return x\n",
    "\n",
    "def create_data(n_samples):\n",
    "    pos_mean = [3, 2]\n",
    "    pos_cov = [[0.4, 0], [0, 0.4]]\n",
    "    neg_mean = [5, 0]\n",
    "    neg_cov = [[0.6, 0], [0, 0.6]]\n",
    "\n",
    "\n",
    "    x_set, y_set = [], []\n",
    "    for _ in range(n_samples):\n",
    "        # flip the coin\n",
    "        coin = np.random.choice([-1, 1])\n",
    "        if coin == 1:\n",
    "            x = create_x(pos_mean, pos_cov)\n",
    "            y = 1\n",
    "        else:\n",
    "            x = create_x(neg_mean, neg_cov)\n",
    "            y = -1\n",
    "        \n",
    "        x_set.append(x)\n",
    "        y_set.append(y)\n",
    "\n",
    "    return np.array(x_set), np.array(y_set)"
   ]
  },
  {
   "cell_type": "code",
   "execution_count": 140,
   "id": "6ce2713d",
   "metadata": {},
   "outputs": [
    {
     "data": {
      "text/plain": [
       "<AxesSubplot:ylabel='Count'>"
      ]
     },
     "execution_count": 140,
     "metadata": {},
     "output_type": "execute_result"
    },
    {
     "data": {
      "image/png": "[encoded data removed]",
      "text/plain": [
       "<Figure size 432x288 with 1 Axes>"
      ]
     },
     "metadata": {
      "needs_background": "light"
     },
     "output_type": "display_data"
    }
   ],
   "source": [
    "from seaborn import histplot\n",
    "histplot(ein_logs)"
   ]
  },
  {
   "cell_type": "code",
   "execution_count": 141,
   "id": "6d1eb2c6",
   "metadata": {},
   "outputs": [
    {
     "data": {
      "text/plain": [
       "0.19605514356030196"
      ]
     },
     "execution_count": 141,
     "metadata": {},
     "output_type": "execute_result"
    }
   ],
   "source": [
    "np.median(np.array(ein_logs))"
   ]
  },
  {
   "cell_type": "markdown",
   "id": "b6c0cb51",
   "metadata": {},
   "source": [
    "## Prob 10"
   ]
  },
  {
   "cell_type": "code",
   "execution_count": 143,
   "id": "c3b64135",
   "metadata": {
    "scrolled": true
   },
   "outputs": [],
   "source": [
    "N_EPOCHS = 128\n",
    "N_TRAIN_DATA = 256\n",
    "\n",
    "ein_logs = []\n",
    "for i in range(N_EPOCHS):\n",
    "    np.random.seed(i)\n",
    "    x_train, y_train = create_data(N_TRAIN_DATA)\n",
    "    w = np.dot(np.dot(inv(np.dot(x_train.T, x_train)), x_train.T), y_train)\n",
    "\n",
    "    preds = np.dot(x_train, w)\n",
    "    ein = 1 / len(x_train) * np.sum(y_train * preds <= 0)\n",
    "    ein_logs.append(ein)"
   ]
  },
  {
   "cell_type": "code",
   "execution_count": 144,
   "id": "fa52c2b9",
   "metadata": {},
   "outputs": [
    {
     "data": {
      "text/plain": [
       "<AxesSubplot:ylabel='Count'>"
      ]
     },
     "execution_count": 144,
     "metadata": {},
     "output_type": "execute_result"
    },
    {
     "data": {
      "image/png": "[encoded data removed]",
      "text/plain": [
       "<Figure size 432x288 with 1 Axes>"
      ]
     },
     "metadata": {
      "needs_background": "light"
     },
     "output_type": "display_data"
    }
   ],
   "source": [
    "from seaborn import histplot\n",
    "histplot(ein_logs)"
   ]
  },
  {
   "cell_type": "code",
   "execution_count": 146,
   "id": "b539593d",
   "metadata": {},
   "outputs": [
    {
     "data": {
      "text/plain": [
       "0.01953125"
      ]
     },
     "execution_count": 146,
     "metadata": {},
     "output_type": "execute_result"
    }
   ],
   "source": [
    "np.median(np.array(ein_logs))"
   ]
  },
  {
   "cell_type": "markdown",
   "id": "094ef86e",
   "metadata": {},
   "source": [
    "## Prob 11"
   ]
  },
  {
   "cell_type": "code",
   "execution_count": 173,
   "id": "af1c7520",
   "metadata": {},
   "outputs": [],
   "source": [
    "def zero_one_error(preds, y_test, n_sample):\n",
    "    ys = y_test * preds\n",
    "    eout = 1 / n_sample * np.sum(ys <= 0)\n",
    "    return eout\n",
    "\n",
    "def sigmoid(x) -> np.array:\n",
    "    return 1 / (1 + np.exp(-1 * x))"
   ]
  },
  {
   "cell_type": "code",
   "execution_count": 202,
   "id": "1fbcac78",
   "metadata": {},
   "outputs": [
    {
     "name": "stdout",
     "output_type": "stream",
     "text": [
      "eout_linear:0.021484375, eout_logisitc:0.037353515625\n",
      "eout_linear:0.0244140625, eout_logisitc:0.03466796875\n",
      "eout_linear:0.028564453125, eout_logisitc:0.0322265625\n",
      "eout_linear:0.02099609375, eout_logisitc:0.032958984375\n",
      "eout_linear:0.022705078125, eout_logisitc:0.037353515625\n",
      "eout_linear:0.02099609375, eout_logisitc:0.034912109375\n",
      "eout_linear:0.023193359375, eout_logisitc:0.027587890625\n",
      "eout_linear:0.02197265625, eout_logisitc:0.03369140625\n",
      "eout_linear:0.031494140625, eout_logisitc:0.03955078125\n",
      "eout_linear:0.023681640625, eout_logisitc:0.03076171875\n",
      "eout_linear:0.020751953125, eout_logisitc:0.032470703125\n",
      "eout_linear:0.02294921875, eout_logisitc:0.03662109375\n",
      "eout_linear:0.021728515625, eout_logisitc:0.03466796875\n",
      "eout_linear:0.023193359375, eout_logisitc:0.033935546875\n",
      "eout_linear:0.02099609375, eout_logisitc:0.030029296875\n",
      "eout_linear:0.021240234375, eout_logisitc:0.0361328125\n",
      "eout_linear:0.02294921875, eout_logisitc:0.034912109375\n",
      "eout_linear:0.022216796875, eout_logisitc:0.029541015625\n",
      "eout_linear:0.0234375, eout_logisitc:0.036865234375\n",
      "eout_linear:0.030517578125, eout_logisitc:0.041259765625\n",
      "eout_linear:0.022705078125, eout_logisitc:0.041259765625\n",
      "eout_linear:0.020751953125, eout_logisitc:0.02978515625\n",
      "eout_linear:0.024658203125, eout_logisitc:0.03369140625\n",
      "eout_linear:0.02392578125, eout_logisitc:0.034423828125\n",
      "eout_linear:0.0244140625, eout_logisitc:0.041259765625\n",
      "eout_linear:0.018798828125, eout_logisitc:0.03125\n",
      "eout_linear:0.0263671875, eout_logisitc:0.037841796875\n",
      "eout_linear:0.024169921875, eout_logisitc:0.0302734375\n",
      "eout_linear:0.021728515625, eout_logisitc:0.03466796875\n",
      "eout_linear:0.02197265625, eout_logisitc:0.033935546875\n",
      "eout_linear:0.0263671875, eout_logisitc:0.033203125\n",
      "eout_linear:0.027587890625, eout_logisitc:0.0390625\n",
      "eout_linear:0.021484375, eout_logisitc:0.03515625\n",
      "eout_linear:0.021484375, eout_logisitc:0.03564453125\n",
      "eout_linear:0.025634765625, eout_logisitc:0.03564453125\n",
      "eout_linear:0.02685546875, eout_logisitc:0.033935546875\n",
      "eout_linear:0.02294921875, eout_logisitc:0.03271484375\n",
      "eout_linear:0.021728515625, eout_logisitc:0.037353515625\n",
      "eout_linear:0.026123046875, eout_logisitc:0.03466796875\n",
      "eout_linear:0.0224609375, eout_logisitc:0.030517578125\n",
      "eout_linear:0.027587890625, eout_logisitc:0.035888671875\n",
      "eout_linear:0.024169921875, eout_logisitc:0.03515625\n",
      "eout_linear:0.02587890625, eout_logisitc:0.03173828125\n",
      "eout_linear:0.025634765625, eout_logisitc:0.034912109375\n",
      "eout_linear:0.021240234375, eout_logisitc:0.0322265625\n",
      "eout_linear:0.019287109375, eout_logisitc:0.0302734375\n",
      "eout_linear:0.030517578125, eout_logisitc:0.039306640625\n",
      "eout_linear:0.022216796875, eout_logisitc:0.034912109375\n",
      "eout_linear:0.02197265625, eout_logisitc:0.035400390625\n",
      "eout_linear:0.021240234375, eout_logisitc:0.04052734375\n",
      "eout_linear:0.022705078125, eout_logisitc:0.031982421875\n",
      "eout_linear:0.025634765625, eout_logisitc:0.03955078125\n",
      "eout_linear:0.01953125, eout_logisitc:0.037353515625\n",
      "eout_linear:0.027099609375, eout_logisitc:0.035888671875\n",
      "eout_linear:0.02734375, eout_logisitc:0.033447265625\n",
      "eout_linear:0.026611328125, eout_logisitc:0.03515625\n",
      "eout_linear:0.022705078125, eout_logisitc:0.033935546875\n",
      "eout_linear:0.0244140625, eout_logisitc:0.037109375\n",
      "eout_linear:0.023681640625, eout_logisitc:0.04052734375\n",
      "eout_linear:0.0263671875, eout_logisitc:0.037353515625\n",
      "eout_linear:0.026611328125, eout_logisitc:0.035888671875\n",
      "eout_linear:0.02392578125, eout_logisitc:0.03076171875\n",
      "eout_linear:0.026611328125, eout_logisitc:0.03564453125\n",
      "eout_linear:0.027099609375, eout_logisitc:0.035888671875\n",
      "eout_linear:0.01953125, eout_logisitc:0.0322265625\n",
      "eout_linear:0.024169921875, eout_logisitc:0.031982421875\n",
      "eout_linear:0.0244140625, eout_logisitc:0.02978515625\n",
      "eout_linear:0.024658203125, eout_logisitc:0.036865234375\n",
      "eout_linear:0.027099609375, eout_logisitc:0.033203125\n",
      "eout_linear:0.0205078125, eout_logisitc:0.035400390625\n",
      "eout_linear:0.02490234375, eout_logisitc:0.034912109375\n",
      "eout_linear:0.022705078125, eout_logisitc:0.032958984375\n",
      "eout_linear:0.02392578125, eout_logisitc:0.039306640625\n",
      "eout_linear:0.01904296875, eout_logisitc:0.03466796875\n",
      "eout_linear:0.02392578125, eout_logisitc:0.039306640625\n",
      "eout_linear:0.021728515625, eout_logisitc:0.037353515625\n",
      "eout_linear:0.0234375, eout_logisitc:0.03125\n",
      "eout_linear:0.020751953125, eout_logisitc:0.03271484375\n",
      "eout_linear:0.026123046875, eout_logisitc:0.03662109375\n",
      "eout_linear:0.022705078125, eout_logisitc:0.035888671875\n",
      "eout_linear:0.02490234375, eout_logisitc:0.03857421875\n",
      "eout_linear:0.023193359375, eout_logisitc:0.037353515625\n",
      "eout_linear:0.0244140625, eout_logisitc:0.031494140625\n",
      "eout_linear:0.031005859375, eout_logisitc:0.040283203125\n",
      "eout_linear:0.0234375, eout_logisitc:0.03955078125\n",
      "eout_linear:0.025634765625, eout_logisitc:0.038330078125\n",
      "eout_linear:0.029296875, eout_logisitc:0.039794921875\n",
      "eout_linear:0.0224609375, eout_logisitc:0.031005859375\n",
      "eout_linear:0.0263671875, eout_logisitc:0.0361328125\n",
      "eout_linear:0.025146484375, eout_logisitc:0.035400390625\n",
      "eout_linear:0.02099609375, eout_logisitc:0.032958984375\n",
      "eout_linear:0.021240234375, eout_logisitc:0.03564453125\n",
      "eout_linear:0.027587890625, eout_logisitc:0.042236328125\n",
      "eout_linear:0.031494140625, eout_logisitc:0.04052734375\n",
      "eout_linear:0.02392578125, eout_logisitc:0.027587890625\n",
      "eout_linear:0.024658203125, eout_logisitc:0.035888671875\n",
      "eout_linear:0.0263671875, eout_logisitc:0.03271484375\n",
      "eout_linear:0.020751953125, eout_logisitc:0.036376953125\n",
      "eout_linear:0.025634765625, eout_logisitc:0.032958984375\n",
      "eout_linear:0.02880859375, eout_logisitc:0.038330078125\n",
      "eout_linear:0.02392578125, eout_logisitc:0.041015625\n",
      "eout_linear:0.0244140625, eout_logisitc:0.039794921875\n",
      "eout_linear:0.022216796875, eout_logisitc:0.031494140625\n",
      "eout_linear:0.02392578125, eout_logisitc:0.03271484375\n",
      "eout_linear:0.0205078125, eout_logisitc:0.036376953125\n",
      "eout_linear:0.0263671875, eout_logisitc:0.02880859375\n",
      "eout_linear:0.02392578125, eout_logisitc:0.03173828125\n",
      "eout_linear:0.02490234375, eout_logisitc:0.03662109375\n",
      "eout_linear:0.02880859375, eout_logisitc:0.0361328125\n",
      "eout_linear:0.02001953125, eout_logisitc:0.0390625\n",
      "eout_linear:0.024169921875, eout_logisitc:0.032958984375\n",
      "eout_linear:0.02490234375, eout_logisitc:0.034912109375\n",
      "eout_linear:0.026123046875, eout_logisitc:0.03955078125\n",
      "eout_linear:0.02490234375, eout_logisitc:0.033203125\n",
      "eout_linear:0.02001953125, eout_logisitc:0.030517578125\n",
      "eout_linear:0.021728515625, eout_logisitc:0.03564453125\n",
      "eout_linear:0.02734375, eout_logisitc:0.035888671875\n",
      "eout_linear:0.02392578125, eout_logisitc:0.036865234375\n",
      "eout_linear:0.025146484375, eout_logisitc:0.0380859375\n",
      "eout_linear:0.029052734375, eout_logisitc:0.0380859375\n",
      "eout_linear:0.023193359375, eout_logisitc:0.033447265625\n",
      "eout_linear:0.023681640625, eout_logisitc:0.0302734375\n",
      "eout_linear:0.029541015625, eout_logisitc:0.0439453125\n",
      "eout_linear:0.019775390625, eout_logisitc:0.02978515625\n",
      "eout_linear:0.02392578125, eout_logisitc:0.0390625\n",
      "eout_linear:0.024658203125, eout_logisitc:0.03369140625\n",
      "eout_linear:0.0234375, eout_logisitc:0.031494140625\n",
      "eout_linear:0.021484375, eout_logisitc:0.031005859375\n"
     ]
    }
   ],
   "source": [
    "from sklearn.linear_model import LogisticRegression\n",
    "\n",
    "N_EPOCHS = 128\n",
    "N_ITERATIONS, LR = 500, 0.1 # For logistic regression\n",
    "N_TRAIN_DATA = 256\n",
    "N_TEST_DATA = 4096\n",
    "\n",
    "used_package = False\n",
    "\n",
    "eout_logs = []\n",
    "for i in range(N_EPOCHS):\n",
    "    # Create train/test data\n",
    "    np.random.seed(i)\n",
    "    x_train, y_train = create_data(N_TRAIN_DATA)\n",
    "    x_test, y_test = create_data(N_TEST_DATA)\n",
    "    \n",
    "    # For linear regression\n",
    "    w = np.dot(np.dot(inv(np.dot(x_train.T, x_train)), x_train.T), y_train)\n",
    "    preds = np.dot(x_test, w)\n",
    "    eout_linear = zero_one_error(preds, y_test, len(x_test))\n",
    "    \n",
    "    # For logistic regression\n",
    "    if used_package:\n",
    "        clf = LogisticRegression(penalty=\"none\", random_state=i, max_iter=N_ITERATIONS).fit(x_train, y_train)\n",
    "        preds = clf.predict(x_test)\n",
    "    else:\n",
    "        w = np.array([0.0 for _ in range(x_train.shape[1])])\n",
    "        for j in range(N_ITERATIONS):\n",
    "            k = sigmoid(-1 * y_train.T * np.dot(x_train, w))\n",
    "            c = -1 * y_train[:, np.newaxis] * x_train\n",
    "            gradient = 1 / len(x_train) * np.sum(k[:, np.newaxis] * c, axis=0)\n",
    "            w -= LR * gradient\n",
    "        \n",
    "        preds = np.dot(x_test, w)\n",
    "    eout_logistic = zero_one_error(preds, y_test, len(x_test))\n",
    "    \n",
    "    print(\"eout_linear:{}, eout_logisitc:{}\".format(eout_linear, eout_logistic))\n",
    "    eout_logs.append([eout_linear, eout_logistic])"
   ]
  },
  {
   "cell_type": "code",
   "execution_count": 219,
   "id": "abc05706",
   "metadata": {},
   "outputs": [
    {
     "data": {
      "text/plain": [
       "<AxesSubplot:xlabel='linear_regression', ylabel='logistic_regression'>"
      ]
     },
     "execution_count": 219,
     "metadata": {},
     "output_type": "execute_result"
    },
    {
     "data": {
      "image/png": "[encoded data removed]",
      "text/plain": [
       "<Figure size 432x288 with 1 Axes>"
      ]
     },
     "metadata": {
      "needs_background": "light"
     },
     "output_type": "display_data"
    }
   ],
   "source": [
    "import pandas as pd\n",
    "from seaborn import scatterplot\n",
    "df = pd.DataFrame(eout_logs, columns=[\"linear_regression\", \"logistic_regression\"])\n",
    "scatterplot(data=df, x=\"linear_regression\", y=\"logistic_regression\")"
   ]
  },
  {
   "cell_type": "code",
   "execution_count": 225,
   "id": "50c13d92",
   "metadata": {},
   "outputs": [
    {
     "name": "stdout",
     "output_type": "stream",
     "text": [
      "Median of eout on linear regression :  0.02392578125\n",
      "Median of eout on linear regression :  0.03515625\n"
     ]
    }
   ],
   "source": [
    "print(\"Median of eout on linear regression : \", df[\"linear_regression\"].median())\n",
    "print(\"Median of eout on linear regression : \", df[\"logistic_regression\"].median())"
   ]
  },
  {
   "cell_type": "markdown",
   "id": "1e23a08f",
   "metadata": {},
   "source": [
    "## Prob 12"
   ]
  },
  {
   "cell_type": "code",
   "execution_count": 232,
   "id": "3b05a913",
   "metadata": {},
   "outputs": [],
   "source": [
    "def create_outlier(n_samples):\n",
    "    mean = [0, 6]\n",
    "    cov = [[0.1, 0], [0, 0.3]]\n",
    "    \n",
    "    x = np.random.multivariate_normal(mean, cov, n_samples)\n",
    "    bias = np.array([[1] for _ in x])\n",
    "    x = np.concatenate([bias, x], axis=1)\n",
    "    y = np.array([1 for _ in range(n_samples)])\n",
    "    \n",
    "    return x, y"
   ]
  },
  {
   "cell_type": "code",
   "execution_count": 239,
   "id": "2b4cb983",
   "metadata": {},
   "outputs": [
    {
     "name": "stdout",
     "output_type": "stream",
     "text": [
      "eout_linear:0.030029296875, eout_logisitc:0.037109375\n",
      "eout_linear:0.0302734375, eout_logisitc:0.03466796875\n",
      "eout_linear:0.037353515625, eout_logisitc:0.0322265625\n",
      "eout_linear:0.028564453125, eout_logisitc:0.032958984375\n",
      "eout_linear:0.024658203125, eout_logisitc:0.037353515625\n",
      "eout_linear:0.029296875, eout_logisitc:0.03515625\n",
      "eout_linear:0.03759765625, eout_logisitc:0.027587890625\n",
      "eout_linear:0.03515625, eout_logisitc:0.03369140625\n",
      "eout_linear:0.02978515625, eout_logisitc:0.03955078125\n",
      "eout_linear:0.02490234375, eout_logisitc:0.03125\n",
      "eout_linear:0.026611328125, eout_logisitc:0.032470703125\n",
      "eout_linear:0.02099609375, eout_logisitc:0.03662109375\n",
      "eout_linear:0.030029296875, eout_logisitc:0.03466796875\n",
      "eout_linear:0.040771484375, eout_logisitc:0.033935546875\n",
      "eout_linear:0.03369140625, eout_logisitc:0.030517578125\n",
      "eout_linear:0.025634765625, eout_logisitc:0.035888671875\n",
      "eout_linear:0.0322265625, eout_logisitc:0.03515625\n",
      "eout_linear:0.032958984375, eout_logisitc:0.029541015625\n",
      "eout_linear:0.023681640625, eout_logisitc:0.036865234375\n",
      "eout_linear:0.025634765625, eout_logisitc:0.04150390625\n",
      "eout_linear:0.02734375, eout_logisitc:0.041259765625\n",
      "eout_linear:0.0302734375, eout_logisitc:0.02978515625\n",
      "eout_linear:0.033447265625, eout_logisitc:0.03369140625\n",
      "eout_linear:0.033203125, eout_logisitc:0.034912109375\n",
      "eout_linear:0.030517578125, eout_logisitc:0.041259765625\n",
      "eout_linear:0.03125, eout_logisitc:0.03125\n",
      "eout_linear:0.024658203125, eout_logisitc:0.037841796875\n",
      "eout_linear:0.0234375, eout_logisitc:0.0302734375\n",
      "eout_linear:0.037109375, eout_logisitc:0.03466796875\n",
      "eout_linear:0.02099609375, eout_logisitc:0.033935546875\n",
      "eout_linear:0.033935546875, eout_logisitc:0.033203125\n",
      "eout_linear:0.03466796875, eout_logisitc:0.0390625\n",
      "eout_linear:0.024169921875, eout_logisitc:0.03515625\n",
      "eout_linear:0.0322265625, eout_logisitc:0.03564453125\n",
      "eout_linear:0.024169921875, eout_logisitc:0.035400390625\n",
      "eout_linear:0.02783203125, eout_logisitc:0.033935546875\n",
      "eout_linear:0.024658203125, eout_logisitc:0.032958984375\n",
      "eout_linear:0.02099609375, eout_logisitc:0.037353515625\n",
      "eout_linear:0.035888671875, eout_logisitc:0.034912109375\n",
      "eout_linear:0.030029296875, eout_logisitc:0.030517578125\n",
      "eout_linear:0.02197265625, eout_logisitc:0.0361328125\n",
      "eout_linear:0.031982421875, eout_logisitc:0.035400390625\n",
      "eout_linear:0.03271484375, eout_logisitc:0.03173828125\n",
      "eout_linear:0.025146484375, eout_logisitc:0.034912109375\n",
      "eout_linear:0.025390625, eout_logisitc:0.0322265625\n",
      "eout_linear:0.020751953125, eout_logisitc:0.0302734375\n",
      "eout_linear:0.03076171875, eout_logisitc:0.039306640625\n",
      "eout_linear:0.0302734375, eout_logisitc:0.034912109375\n",
      "eout_linear:0.028076171875, eout_logisitc:0.03564453125\n",
      "eout_linear:0.02392578125, eout_logisitc:0.04052734375\n",
      "eout_linear:0.0234375, eout_logisitc:0.031982421875\n",
      "eout_linear:0.03076171875, eout_logisitc:0.03955078125\n",
      "eout_linear:0.02197265625, eout_logisitc:0.03759765625\n",
      "eout_linear:0.022705078125, eout_logisitc:0.035888671875\n",
      "eout_linear:0.029296875, eout_logisitc:0.033447265625\n",
      "eout_linear:0.02734375, eout_logisitc:0.03515625\n",
      "eout_linear:0.027099609375, eout_logisitc:0.033935546875\n",
      "eout_linear:0.0224609375, eout_logisitc:0.037353515625\n",
      "eout_linear:0.02734375, eout_logisitc:0.040771484375\n",
      "eout_linear:0.022705078125, eout_logisitc:0.03759765625\n",
      "eout_linear:0.02685546875, eout_logisitc:0.035888671875\n",
      "eout_linear:0.029541015625, eout_logisitc:0.031005859375\n",
      "eout_linear:0.02880859375, eout_logisitc:0.035888671875\n",
      "eout_linear:0.02587890625, eout_logisitc:0.03564453125\n",
      "eout_linear:0.028564453125, eout_logisitc:0.0322265625\n",
      "eout_linear:0.030029296875, eout_logisitc:0.031982421875\n",
      "eout_linear:0.0263671875, eout_logisitc:0.030029296875\n",
      "eout_linear:0.029296875, eout_logisitc:0.036865234375\n",
      "eout_linear:0.027099609375, eout_logisitc:0.033447265625\n",
      "eout_linear:0.02783203125, eout_logisitc:0.035400390625\n",
      "eout_linear:0.035400390625, eout_logisitc:0.03515625\n",
      "eout_linear:0.039306640625, eout_logisitc:0.032958984375\n",
      "eout_linear:0.026611328125, eout_logisitc:0.039306640625\n",
      "eout_linear:0.031494140625, eout_logisitc:0.03466796875\n",
      "eout_linear:0.02734375, eout_logisitc:0.039306640625\n",
      "eout_linear:0.02783203125, eout_logisitc:0.03759765625\n",
      "eout_linear:0.039306640625, eout_logisitc:0.031494140625\n",
      "eout_linear:0.032958984375, eout_logisitc:0.032958984375\n",
      "eout_linear:0.033935546875, eout_logisitc:0.03662109375\n",
      "eout_linear:0.03076171875, eout_logisitc:0.03564453125\n",
      "eout_linear:0.02978515625, eout_logisitc:0.038818359375\n",
      "eout_linear:0.028076171875, eout_logisitc:0.037353515625\n",
      "eout_linear:0.026611328125, eout_logisitc:0.031494140625\n",
      "eout_linear:0.02490234375, eout_logisitc:0.040283203125\n",
      "eout_linear:0.044189453125, eout_logisitc:0.0400390625\n",
      "eout_linear:0.024658203125, eout_logisitc:0.038818359375\n",
      "eout_linear:0.023193359375, eout_logisitc:0.039794921875\n",
      "eout_linear:0.02294921875, eout_logisitc:0.03125\n",
      "eout_linear:0.02734375, eout_logisitc:0.035888671875\n",
      "eout_linear:0.02783203125, eout_logisitc:0.035400390625\n",
      "eout_linear:0.026611328125, eout_logisitc:0.032958984375\n",
      "eout_linear:0.029052734375, eout_logisitc:0.03564453125\n",
      "eout_linear:0.033935546875, eout_logisitc:0.042236328125\n",
      "eout_linear:0.028076171875, eout_logisitc:0.04052734375\n",
      "eout_linear:0.03515625, eout_logisitc:0.027587890625\n",
      "eout_linear:0.024658203125, eout_logisitc:0.035888671875\n",
      "eout_linear:0.026123046875, eout_logisitc:0.03271484375\n",
      "eout_linear:0.024658203125, eout_logisitc:0.036865234375\n",
      "eout_linear:0.02978515625, eout_logisitc:0.032958984375\n",
      "eout_linear:0.0302734375, eout_logisitc:0.0390625\n",
      "eout_linear:0.03271484375, eout_logisitc:0.041259765625\n",
      "eout_linear:0.028564453125, eout_logisitc:0.039794921875\n",
      "eout_linear:0.041259765625, eout_logisitc:0.031494140625\n",
      "eout_linear:0.02978515625, eout_logisitc:0.03271484375\n",
      "eout_linear:0.02978515625, eout_logisitc:0.036376953125\n",
      "eout_linear:0.03857421875, eout_logisitc:0.02880859375\n",
      "eout_linear:0.03564453125, eout_logisitc:0.031494140625\n",
      "eout_linear:0.025146484375, eout_logisitc:0.03662109375\n",
      "eout_linear:0.0302734375, eout_logisitc:0.0361328125\n",
      "eout_linear:0.02490234375, eout_logisitc:0.0390625\n",
      "eout_linear:0.025634765625, eout_logisitc:0.033935546875\n",
      "eout_linear:0.022705078125, eout_logisitc:0.034912109375\n",
      "eout_linear:0.02685546875, eout_logisitc:0.039794921875\n",
      "eout_linear:0.02587890625, eout_logisitc:0.03369140625\n",
      "eout_linear:0.0263671875, eout_logisitc:0.030517578125\n",
      "eout_linear:0.03173828125, eout_logisitc:0.03564453125\n",
      "eout_linear:0.029541015625, eout_logisitc:0.0361328125\n",
      "eout_linear:0.022216796875, eout_logisitc:0.036865234375\n",
      "eout_linear:0.03173828125, eout_logisitc:0.038330078125\n",
      "eout_linear:0.03662109375, eout_logisitc:0.0380859375\n",
      "eout_linear:0.0263671875, eout_logisitc:0.033447265625\n",
      "eout_linear:0.03173828125, eout_logisitc:0.0302734375\n",
      "eout_linear:0.0234375, eout_logisitc:0.044189453125\n",
      "eout_linear:0.021484375, eout_logisitc:0.02978515625\n",
      "eout_linear:0.02587890625, eout_logisitc:0.0390625\n",
      "eout_linear:0.038330078125, eout_logisitc:0.033935546875\n",
      "eout_linear:0.029296875, eout_logisitc:0.03173828125\n",
      "eout_linear:0.02490234375, eout_logisitc:0.03125\n"
     ]
    }
   ],
   "source": [
    "from sklearn.linear_model import LogisticRegression\n",
    "\n",
    "N_EPOCHS = 128\n",
    "N_ITERATIONS, LR = 500, 0.1 # For logistic regression\n",
    "N_TRAIN_DATA = 256\n",
    "N_TEST_DATA = 4096\n",
    "N_OUTLIER = 16\n",
    "\n",
    "used_package = False\n",
    "\n",
    "eout_logs = []\n",
    "for i in range(N_EPOCHS):\n",
    "    # Create train/test data\n",
    "    np.random.seed(i)\n",
    "    x_train, y_train = create_data(N_TRAIN_DATA)\n",
    "    x_test, y_test = create_data(N_TEST_DATA)\n",
    "    \n",
    "    # Add outlier to train data\n",
    "\n",
    "    x_outlier, y_outlier = create_outlier(N_OUTLIER)\n",
    "    x_train = np.concatenate([x_train, x_outlier])\n",
    "    y_train = np.concatenate([y_train, y_outlier])\n",
    "    \n",
    "    # For linear regression\n",
    "    w = np.dot(np.dot(inv(np.dot(x_train.T, x_train)), x_train.T), y_train)\n",
    "    preds = np.dot(x_test, w)\n",
    "    eout_linear = zero_one_error(preds, y_test, len(x_test))\n",
    "    \n",
    "    # For logistic regression\n",
    "    if used_package:\n",
    "        clf = LogisticRegression(penalty=\"none\", random_state=i, max_iter=N_ITERATIONS).fit(x_train, y_train)\n",
    "        preds = clf.predict(x_test)\n",
    "    else:\n",
    "        w = np.array([0.0 for _ in range(x_train.shape[1])])\n",
    "        for j in range(N_ITERATIONS):\n",
    "            k = sigmoid(-1 * y_train.T * np.dot(x_train, w))\n",
    "            c = -1 * y_train[:, np.newaxis] * x_train\n",
    "            gradient = 1 / len(x_train) * np.sum(k[:, np.newaxis] * c, axis=0)\n",
    "            w -= LR * gradient\n",
    "        \n",
    "        preds = np.dot(x_test, w)\n",
    "    eout_logistic = zero_one_error(preds, y_test, len(x_test))\n",
    "    \n",
    "    print(\"eout_linear:{}, eout_logisitc:{}\".format(eout_linear, eout_logistic))\n",
    "    eout_logs.append([eout_linear, eout_logistic])"
   ]
  },
  {
   "cell_type": "code",
   "execution_count": 240,
   "id": "0ceacd8e",
   "metadata": {},
   "outputs": [
    {
     "data": {
      "text/plain": [
       "<AxesSubplot:xlabel='linear_regression', ylabel='logistic_regression'>"
      ]
     },
     "execution_count": 240,
     "metadata": {},
     "output_type": "execute_result"
    },
    {
     "data": {
      "image/png": "[encoded data removed]",
      "text/plain": [
       "<Figure size 432x288 with 1 Axes>"
      ]
     },
     "metadata": {
      "needs_background": "light"
     },
     "output_type": "display_data"
    }
   ],
   "source": [
    "import pandas as pd\n",
    "from seaborn import scatterplot\n",
    "df = pd.DataFrame(eout_logs, columns=[\"linear_regression\", \"logistic_regression\"])\n",
    "scatterplot(data=df, x=\"linear_regression\", y=\"logistic_regression\")"
   ]
  },
  {
   "cell_type": "code",
   "execution_count": 241,
   "id": "b7f2d4b1",
   "metadata": {},
   "outputs": [
    {
     "name": "stdout",
     "output_type": "stream",
     "text": [
      "Median of eout on linear regression :  0.0283203125\n",
      "Median of eout on linear regression :  0.03515625\n"
     ]
    }
   ],
   "source": [
    "print(\"Median of eout on linear regression : \", df[\"linear_regression\"].median())\n",
    "print(\"Median of eout on linear regression : \", df[\"logistic_regression\"].median())"
   ]
  },
  {
   "cell_type": "markdown",
   "id": "a6dbd7be",
   "metadata": {},
   "source": [
    "## Prob 5"
   ]
  },
  {
   "cell_type": "code",
   "execution_count": 26,
   "id": "6815673f",
   "metadata": {},
   "outputs": [
    {
     "name": "stdout",
     "output_type": "stream",
     "text": [
      "i:1, j:0\n",
      "[[ 0.84197531]\n",
      " [ 0.99753086]\n",
      " [-0.01728395]]\n",
      "i:1, j:1\n",
      "[[ 1.84197531]\n",
      " [ 0.99753086]\n",
      " [-0.01728395]]\n",
      "i:1, j:2\n",
      "[[ 2.84197531]\n",
      " [ 0.99753086]\n",
      " [-0.01728395]]\n",
      "i:1, j:3\n",
      "[[ 3.84197531]\n",
      " [ 0.99753086]\n",
      " [-0.01728395]]\n",
      "i:1, j:4\n",
      "[[ 4.84197531]\n",
      " [ 0.99753086]\n",
      " [-0.01728395]]\n",
      "i:1, j:5\n",
      "[[ 5.84197531]\n",
      " [ 0.99753086]\n",
      " [-0.01728395]]\n",
      "i:1, j:6\n",
      "[[ 6.84197531]\n",
      " [ 0.99753086]\n",
      " [-0.01728395]]\n",
      "i:1, j:7\n",
      "[[ 7.84197531]\n",
      " [ 0.99753086]\n",
      " [-0.01728395]]\n",
      "i:2, j:0\n",
      "[[ 1.68395062]\n",
      " [ 1.99506173]\n",
      " [-0.0345679 ]]\n",
      "i:2, j:1\n",
      "[[ 2.68395062]\n",
      " [ 1.99506173]\n",
      " [-0.0345679 ]]\n",
      "i:2, j:2\n",
      "[[ 3.68395062]\n",
      " [ 1.99506173]\n",
      " [-0.0345679 ]]\n",
      "i:2, j:3\n",
      "[[ 4.68395062]\n",
      " [ 1.99506173]\n",
      " [-0.0345679 ]]\n",
      "i:2, j:4\n",
      "[[ 5.68395062]\n",
      " [ 1.99506173]\n",
      " [-0.0345679 ]]\n",
      "i:2, j:5\n",
      "[[ 6.68395062]\n",
      " [ 1.99506173]\n",
      " [-0.0345679 ]]\n",
      "i:2, j:6\n",
      "[[ 7.68395062]\n",
      " [ 1.99506173]\n",
      " [-0.0345679 ]]\n",
      "i:2, j:7\n",
      "[[ 8.68395062]\n",
      " [ 1.99506173]\n",
      " [-0.0345679 ]]\n"
     ]
    }
   ],
   "source": [
    "import numpy as np\n",
    "from numpy.linalg import inv\n",
    "\n",
    "x_train, y_train = np.array([[1, 1, 4], [1, 5, 4], [1, 4, 8], [1, 6, 3]]), np.array([[2], [4], [5], [8]])\n",
    "\n",
    "for i in range(1, 3):\n",
    "    for j in range(0, 8):\n",
    "        y_train_scaled = i * y_train + j\n",
    "        w = np.dot(np.dot(inv(np.dot(x_train.T, x_train)), x_train.T), y_train_scaled)\n",
    "        print(\"i:{}, j:{}\".format(i, j))\n",
    "        print(w)"
   ]
  },
  {
   "cell_type": "code",
   "execution_count": 27,
   "id": "1cf970e6",
   "metadata": {},
   "outputs": [
    {
     "name": "stdout",
     "output_type": "stream",
     "text": [
      "i:1, j:0\n",
      "[[0.5  ]\n",
      " [0.375]]\n",
      "i:1, j:1\n",
      "[[0.5  ]\n",
      " [0.625]]\n",
      "i:1, j:2\n",
      "[[0.5  ]\n",
      " [0.875]]\n",
      "i:1, j:3\n",
      "[[0.5  ]\n",
      " [1.125]]\n",
      "i:1, j:4\n",
      "[[0.5  ]\n",
      " [1.375]]\n",
      "i:1, j:5\n",
      "[[0.5  ]\n",
      " [1.625]]\n",
      "i:1, j:6\n",
      "[[0.5  ]\n",
      " [1.875]]\n",
      "i:1, j:7\n",
      "[[0.5  ]\n",
      " [2.125]]\n",
      "i:2, j:0\n",
      "[[1.  ]\n",
      " [0.75]]\n",
      "i:2, j:1\n",
      "[[1.]\n",
      " [1.]]\n",
      "i:2, j:2\n",
      "[[1.  ]\n",
      " [1.25]]\n",
      "i:2, j:3\n",
      "[[1. ]\n",
      " [1.5]]\n",
      "i:2, j:4\n",
      "[[1.  ]\n",
      " [1.75]]\n",
      "i:2, j:5\n",
      "[[1.]\n",
      " [2.]]\n",
      "i:2, j:6\n",
      "[[1.  ]\n",
      " [2.25]]\n",
      "i:2, j:7\n",
      "[[1. ]\n",
      " [2.5]]\n"
     ]
    }
   ],
   "source": [
    "import numpy as np\n",
    "from numpy.linalg import inv\n",
    "\n",
    "x_train, y_train = np.array([[1, 4], [5, 4]]), np.array([[2], [4]])\n",
    "\n",
    "for i in range(1, 3):\n",
    "    for j in range(0, 8):\n",
    "        y_train_scaled = i * y_train + j\n",
    "        w = np.dot(np.dot(inv(np.dot(x_train.T, x_train)), x_train.T), y_train_scaled)\n",
    "        print(\"i:{}, j:{}\".format(i, j))\n",
    "        print(w)"
   ]
  },
  {
   "cell_type": "code",
   "execution_count": null,
   "id": "a02ad52d",
   "metadata": {},
   "outputs": [],
   "source": []
  }
 ],
 "metadata": {
  "kernelspec": {
   "display_name": "Python 3 (ipykernel)",
   "language": "python",
   "name": "python3"
  },
  "language_info": {
   "codemirror_mode": {
    "name": "ipython",
    "version": 3
   },
   "file_extension": ".py",
   "mimetype": "text/x-python",
   "name": "python",
   "nbconvert_exporter": "python",
   "pygments_lexer": "ipython3",
   "version": "3.9.12"
  }
 },
 "nbformat": 4,
 "nbformat_minor": 5
}
